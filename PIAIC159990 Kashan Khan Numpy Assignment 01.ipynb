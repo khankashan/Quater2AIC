{
 "cells": [
  {
   "cell_type": "code",
   "execution_count": null,
   "metadata": {},
   "outputs": [],
   "source": [
    "1.\tArrange\n",
    "2.\tArray\n",
    "3.\tCopy\n",
    "4.\tEmpty\n",
    "5.\tall()\n",
    "6.\tany()\n",
    "7.\ttake()\n",
    "8.\tput()\n",
    "9.\tapply_along_axis()\n",
    "10.\tapply_over_axes()\n",
    "11.\targmin()\n",
    "12.\targmax()\n",
    "13.\tnanargmin()\n",
    "14.\tnanargmax()\n",
    "15.\tamax()\n",
    "16.\tamin()\n",
    "17.\tinsert()\n",
    "18.\tdelete()\n",
    "19.\tappend()\n",
    "20.\taround()\n",
    "21.\tflip()\n",
    "22.\tfliplr()\n",
    "23.\tflipud()\n",
    "24.\ttriu()\n",
    "25.\ttril()\n",
    "26.\ttri()\n",
    "27.\tempty()\n",
    "28.\tempty_like()\n",
    "29.\tzeros()\n",
    "30.\tzeros_like()\n",
    "31.\tones()\n",
    "32.\tones_like()\n",
    "33.\tfull_like()\n",
    "34.\tdiag()\n",
    "35.\tdiagflat()\n",
    "36.\tdiag_indices()\n",
    "37.\tasmatrix()\n",
    "38.\tbmat()\n",
    "39.\teye()\n",
    "40.\troll()\n",
    "41.\tidentity()\n",
    "42.\tarange()\n",
    "43.\tplace()\n",
    "44.\textract()\n",
    "45.\tcompress()\n",
    "46.\trot90()\n",
    "47.\ttile()\n",
    "48.\treshape()\n",
    "49.\travel()\n",
    "50.\tisinf()\n"
   ]
  }
 ],
 "metadata": {
  "kernelspec": {
   "display_name": "Python 3",
   "language": "python",
   "name": "python3"
  },
  "language_info": {
   "codemirror_mode": {
    "name": "ipython",
    "version": 3
   },
   "file_extension": ".py",
   "mimetype": "text/x-python",
   "name": "python",
   "nbconvert_exporter": "python",
   "pygments_lexer": "ipython3",
   "version": "3.7.6"
  }
 },
 "nbformat": 4,
 "nbformat_minor": 4
}
